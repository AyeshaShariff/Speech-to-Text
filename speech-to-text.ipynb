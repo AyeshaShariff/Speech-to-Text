{
 "cells": [
  {
   "cell_type": "markdown",
   "id": "b36b2ac8",
   "metadata": {},
   "source": [
    "# MACHINE LEARING PROJECT - SPEECH TO TEXT"
   ]
  },
  {
   "cell_type": "markdown",
   "id": "3f69c75a",
   "metadata": {},
   "source": [
    "# Ayesha Shariff - 21BDA18"
   ]
  },
  {
   "cell_type": "code",
   "execution_count": 10,
   "id": "7929d730",
   "metadata": {},
   "outputs": [
    {
     "name": "stdout",
     "output_type": "stream",
     "text": [
      "Requirement already satisfied: ffmpeg in c:\\users\\ahmed\\anaconda3\\lib\\site-packages (1.4)\n",
      "Note: you may need to restart the kernel to use updated packages.\n"
     ]
    }
   ],
   "source": [
    "pip install ffmpeg"
   ]
  },
  {
   "cell_type": "code",
   "execution_count": 29,
   "id": "a46f10a0",
   "metadata": {},
   "outputs": [],
   "source": [
    "from tkinter import *\n",
    "from tkinter.messagebox import showinfo\n",
    "import speech_recognition as sr\n",
    "import os\n",
    "from pydub import AudioSegment\n",
    "from pydub.silence import split_on_silence\n",
    "from tkinter.filedialog import askopenfile "
   ]
  },
  {
   "cell_type": "markdown",
   "id": "29c2514a",
   "metadata": {},
   "source": [
    "Using tkinter to create a user interface for speech recognition"
   ]
  },
  {
   "cell_type": "code",
   "execution_count": 30,
   "id": "b8433f9f",
   "metadata": {},
   "outputs": [],
   "source": [
    "mainwindow= Tk()\n",
    "mainwindow.title('Speech Recognition')\n",
    "mainwindow.geometry('500x500')\n",
    "mainwindow.resizable(0, 0)\n",
    "mainwindow.configure(bg='steel blue')"
   ]
  },
  {
   "cell_type": "markdown",
   "id": "c84d3b6c",
   "metadata": {},
   "source": [
    "I used speech_rcognition library to convert speech to text"
   ]
  },
  {
   "cell_type": "code",
   "execution_count": 31,
   "id": "dded0d89",
   "metadata": {},
   "outputs": [],
   "source": [
    "#Function to record voice from microphone and convert it to text\n",
    "def recordvoice():\n",
    "    while True:\n",
    "        r = sr.Recognizer() #initialzed the speech recognizer\n",
    "        with sr.Microphone() as source: #using microphone as source to recognise speech \n",
    "            r.adjust_for_ambient_noise(source, duration=0.3)  #listen for 0.3 seconds to adjust to the background/ambient noise \n",
    "            audio=r.listen(source) #listen to user input\n",
    "            try:    \n",
    "                text1 = r.recognize_google(audio,language=\"en-IN\") #using google to recognize the audio and set language as english\n",
    "            except:\n",
    "                pass\n",
    "            return text1 #returns the speech converted to text"
   ]
  },
  {
   "cell_type": "code",
   "execution_count": 32,
   "id": "fd0d2c21",
   "metadata": {},
   "outputs": [],
   "source": [
    "#creating a function for user interface in tkinter\n",
    "def SpeechToText():\n",
    "    speechtotextwindow = Toplevel(mainwindow)\n",
    "    speechtotextwindow.title('Speech-to-Text Converter')\n",
    "    speechtotextwindow.geometry(\"500x500\")\n",
    "    speechtotextwindow.configure(bg='aquamarine')\n",
    " \n",
    "    Label(speechtotextwindow, text='Speech-to-Text Converter', font=(\"Times New Roman\", 20)).place(x=70,y=3)\n",
    " \n",
    "    text = Text(speechtotextwindow, font=12, height=10, width=50)\n",
    "    text.place(x=22, y=120)\n",
    "   \n",
    "    recordbutton = Button(speechtotextwindow, text='RECORD', bg='grey',font=('Times New Roman', 16), command=lambda: text.insert(END, recordvoice()))\n",
    "    recordbutton.place(x=150, y=50)"
   ]
  },
  {
   "cell_type": "code",
   "execution_count": 33,
   "id": "70e8155a",
   "metadata": {},
   "outputs": [],
   "source": [
    "#Function to convert audio files to text\n",
    "#we seperate long audio files into chunks and translate each chunk\n",
    "def get_large_audio(path):\n",
    "    r = sr.Recognizer()\n",
    "    #pydub lets us save file in any format. Here we are using .wav file format\n",
    "    sound = AudioSegment.from_wav(path)  #open the audio file using AudioSegment from pydub\n",
    "    # split audio sound where silence is there and get chunks\n",
    "    chunks = split_on_silence(sound,\n",
    "        min_silence_len = 500,\n",
    "        silence_thresh = sound.dBFS-14,\n",
    "        keep_silence=500,\n",
    "    )\n",
    "    folder_name = \"audio-chunks\"\n",
    "    # create a directory to store the audio chunks\n",
    "    if not os.path.isdir(folder_name):\n",
    "        os.mkdir(folder_name)\n",
    "    whole_text = \"\" \n",
    "    # process each chunk \n",
    "    for i, audio_chunk in enumerate(chunks, start=1):\n",
    "        chunk_filename = os.path.join(folder_name, f\"chunk{i}.wav\") #exporting the chunks and saving it in the directory\n",
    "        audio_chunk.export(chunk_filename, format=\"wav\")\n",
    "        # recognize the chunk\n",
    "        with sr.AudioFile(chunk_filename) as source:\n",
    "            audio_listened = r.record(source) #record the file\n",
    "            try:\n",
    "                text = r.recognize_google(audio_listened) #recognise the audio\n",
    "            except sr.UnknownValueError as e:\n",
    "                print(\"Error:\", str(e))\n",
    "            else:\n",
    "                text = f\"{text.capitalize()}. \"\n",
    "                whole_text += text  #append the text in chunks to create a full text \n",
    "    return whole_text"
   ]
  },
  {
   "cell_type": "code",
   "execution_count": 34,
   "id": "8ca7c567",
   "metadata": {},
   "outputs": [],
   "source": [
    "#Creating a function to open the audio file in tkinter\n",
    "def open_masker():\n",
    "    global fileName\n",
    "    fileName = filedialog.askopenfilename(filetypes=((\"Audio Files\", \".wav .ogg\"),(\"All Files\",\"*.*\")))\n",
    "    if fileName ==\"\": \n",
    "        fileName = None \n",
    "    else:\n",
    "        fh = open(fileName, \"r\")\n",
    "        fh.close()   "
   ]
  },
  {
   "cell_type": "code",
   "execution_count": 35,
   "id": "4c91d511",
   "metadata": {},
   "outputs": [],
   "source": [
    "#Function to read the user input audio file using the get_large_audio function \n",
    "def ReadAudio():\n",
    "    return get_large_audio(fileName)"
   ]
  },
  {
   "cell_type": "code",
   "execution_count": 36,
   "id": "e84801da",
   "metadata": {},
   "outputs": [],
   "source": [
    "def AudioToText():\n",
    "    audiototextwindow = Toplevel(mainwindow)\n",
    "    audiototextwindow.title('Audio-to-Text Converter')\n",
    "    audiototextwindow.geometry(\"500x500\")\n",
    "    audiototextwindow.configure(bg='slate blue')\n",
    " \n",
    "    Label(audiototextwindow, text='Audio-to-Text Converter', font=(\"Times New Roman\", 20)).place(x=70,y=3)\n",
    " \n",
    "    text = Text(audiototextwindow, font=12, height=20, width=48)\n",
    "    text.place(x=22, y=110)\n",
    "    uploadbutton= Button(audiototextwindow, text='upload',font=('Times New Roman', 16), bg='grey', command=open_masker)\n",
    "    uploadbutton.place(x=120, y=52)\n",
    "    \n",
    "    convertbutton = Button(audiototextwindow, text='convert', font=('Times New Roman', 16),bg='grey', command=lambda: text.insert(END, ReadAudio()))\n",
    "    convertbutton.place(x=200, y=52)"
   ]
  },
  {
   "cell_type": "code",
   "execution_count": 37,
   "id": "b78c09c3",
   "metadata": {},
   "outputs": [],
   "source": [
    "Label(mainwindow, text='SPEECH RECOGNITION',\n",
    "     font=('Times New Roman', 20), wrap=True, wraplength=450).place(x=70, y=5)\n",
    "\n",
    "audiototextbutton = Button(mainwindow, text='Audio-To-Text Conversion', font=('Times New Roman', 16), bg='grey', command=AudioToText)\n",
    "audiototextbutton.place(x=100, y=150)\n",
    " \n",
    "speechtotextbutton = Button(mainwindow, text='Speech-To-Text Conversion', font=('Times New Roman', 16), bg='grey', command=SpeechToText)\n",
    "speechtotextbutton.place(x=100, y=250)\n",
    " \n",
    "mainwindow.update()\n",
    "mainwindow.mainloop()"
   ]
  }
 ],
 "metadata": {
  "kernelspec": {
   "display_name": "Python 3",
   "language": "python",
   "name": "python3"
  },
  "language_info": {
   "codemirror_mode": {
    "name": "ipython",
    "version": 3
   },
   "file_extension": ".py",
   "mimetype": "text/x-python",
   "name": "python",
   "nbconvert_exporter": "python",
   "pygments_lexer": "ipython3",
   "version": "3.8.8"
  }
 },
 "nbformat": 4,
 "nbformat_minor": 5
}
